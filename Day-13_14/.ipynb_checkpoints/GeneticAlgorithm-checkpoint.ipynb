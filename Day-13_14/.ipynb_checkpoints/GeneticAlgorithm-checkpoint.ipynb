{
 "cells": [
  {
   "cell_type": "code",
   "execution_count": 1,
   "metadata": {},
   "outputs": [],
   "source": [
    "inp = [4,-2,3.5,5,-11,-4.7]"
   ]
  },
  {
   "cell_type": "code",
   "execution_count": 2,
   "metadata": {},
   "outputs": [],
   "source": [
    "weights = 6"
   ]
  },
  {
   "cell_type": "code",
   "execution_count": 3,
   "metadata": {},
   "outputs": [],
   "source": [
    "import numpy\n",
    "pop = 8\n",
    "size = (pop,weights)\n",
    "new= numpy.random.uniform(low=-4.0, high=4.0, size=size)"
   ]
  },
  {
   "cell_type": "code",
   "execution_count": 4,
   "metadata": {},
   "outputs": [
    {
     "data": {
      "text/plain": [
       "array([[ 1.14033503,  0.58372662, -0.48919899, -3.56104802,  3.87166714,\n",
       "         0.3845794 ],\n",
       "       [-1.81257315,  0.3795924 , -0.01668578, -2.71879101, -1.68405449,\n",
       "         0.87127867],\n",
       "       [ 3.25198409,  0.95958951,  3.2218787 , -3.11987498,  1.73395227,\n",
       "        -0.98262704],\n",
       "       [-3.11320249, -1.62167074,  2.12331705, -0.87854323,  1.43441273,\n",
       "        -2.11987085],\n",
       "       [-1.33572288,  0.69159223,  0.25963394, -3.56376063, -3.74659178,\n",
       "        -0.73453033],\n",
       "       [ 3.02214056, -1.09903856,  3.95500546,  2.20658764,  3.94171149,\n",
       "        -1.07560722],\n",
       "       [ 1.35597187,  3.23666668,  0.60528765,  2.6840376 ,  1.42515995,\n",
       "         1.55465735],\n",
       "       [ 3.88217699, -2.15494389, -1.68394211, -1.70191746,  3.41543184,\n",
       "        -3.57360985]])"
      ]
     },
     "execution_count": 4,
     "metadata": {},
     "output_type": "execute_result"
    }
   ],
   "source": [
    "new"
   ]
  },
  {
   "cell_type": "code",
   "execution_count": 6,
   "metadata": {},
   "outputs": [
    {
     "name": "stdout",
     "output_type": "stream",
     "text": [
      "Collecting ga\n",
      "  Downloading ga-0.1.1.dev.zip (19 kB)\n",
      "  Preparing metadata (setup.py): started\n",
      "  Preparing metadata (setup.py): finished with status 'done'\n",
      "Building wheels for collected packages: ga\n",
      "  Building wheel for ga (setup.py): started\n",
      "  Building wheel for ga (setup.py): finished with status 'done'\n",
      "  Created wheel for ga: filename=ga-0.1.1.dev0-py3-none-any.whl size=19465 sha256=d5801c398c44a25c8c83d12ca3c5b9bfb533a2c76ebf9459b4b45c37b0485fbf\n",
      "  Stored in directory: c:\\users\\shiva\\appdata\\local\\pip\\cache\\wheels\\6b\\30\\50\\2fea8c8e5b26e800fa4a7b63f550d9282aa5f79d6231526b06\n",
      "Successfully built ga\n",
      "Installing collected packages: ga\n",
      "Successfully installed ga-0.1.1.dev0\n",
      "Note: you may need to restart the kernel to use updated packages.\n"
     ]
    }
   ],
   "source": [
    "pip install ga"
   ]
  },
  {
   "cell_type": "code",
   "execution_count": 5,
   "metadata": {},
   "outputs": [
    {
     "ename": "ModuleNotFoundError",
     "evalue": "No module named 'ga'",
     "output_type": "error",
     "traceback": [
      "\u001b[1;31m---------------------------------------------------------------------------\u001b[0m",
      "\u001b[1;31mModuleNotFoundError\u001b[0m                       Traceback (most recent call last)",
      "Cell \u001b[1;32mIn[5], line 1\u001b[0m\n\u001b[1;32m----> 1\u001b[0m \u001b[38;5;28;01mimport\u001b[39;00m \u001b[38;5;21;01mga\u001b[39;00m\n\u001b[0;32m      2\u001b[0m gen \u001b[38;5;241m=\u001b[39m \u001b[38;5;241m5\u001b[39m\n\u001b[0;32m      3\u001b[0m parents_mating \u001b[38;5;241m=\u001b[39m \u001b[38;5;241m4\u001b[39m\n",
      "\u001b[1;31mModuleNotFoundError\u001b[0m: No module named 'ga'"
     ]
    }
   ],
   "source": [
    "import ga\n",
    "gen = 5\n",
    "parents_mating = 4\n",
    "for generation in range(gen):\n",
    "    fitness = ga.cal_pop_fitness(inp, new)\n",
    "    par = ga.select_mating_pool(new, fitness,parents_mating)\n",
    "    cross = ga.crossover(par, offspring_size=(size[0]-par.shape[0], weights))\n",
    "    mutation = ga.mutation(cross)\n",
    "    newPopulation[0:par.shape[0], :] = par\n",
    "    newPopulation[par.shape[0]:, :] = mutation"
   ]
  },
  {
   "cell_type": "code",
   "execution_count": null,
   "metadata": {},
   "outputs": [],
   "source": []
  }
 ],
 "metadata": {
  "kernelspec": {
   "display_name": "Python 3 (ipykernel)",
   "language": "python",
   "name": "python3"
  },
  "language_info": {
   "codemirror_mode": {
    "name": "ipython",
    "version": 3
   },
   "file_extension": ".py",
   "mimetype": "text/x-python",
   "name": "python",
   "nbconvert_exporter": "python",
   "pygments_lexer": "ipython3",
   "version": "3.11.4"
  }
 },
 "nbformat": 4,
 "nbformat_minor": 2
}
