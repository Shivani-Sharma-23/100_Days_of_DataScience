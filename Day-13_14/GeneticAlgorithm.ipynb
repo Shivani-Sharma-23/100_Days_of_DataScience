{
 "cells": [
  {
   "cell_type": "raw",
   "metadata": {},
   "source": []
  },
  {
   "cell_type": "code",
   "execution_count": 1,
   "metadata": {},
   "outputs": [],
   "source": [
    "inp = [4,-2,3.5,5,-11,-4.7]"
   ]
  },
  {
   "cell_type": "code",
   "execution_count": 2,
   "metadata": {},
   "outputs": [],
   "source": [
    "weights = 6"
   ]
  },
  {
   "cell_type": "code",
   "execution_count": 3,
   "metadata": {},
   "outputs": [],
   "source": [
    "import numpy\n",
    "pop = 8\n",
    "size = (pop,weights)\n",
    "new= numpy.random.uniform(low=-4.0, high=4.0, size=size)"
   ]
  },
  {
   "cell_type": "code",
   "execution_count": 4,
   "metadata": {
    "scrolled": true
   },
   "outputs": [
    {
     "data": {
      "text/plain": [
       "array([[-1.4818599 , -2.89541943,  3.36503459, -3.05733084, -0.39656192,\n",
       "        -0.93564636],\n",
       "       [-3.47727064,  0.7220233 ,  3.33372869,  3.28949801, -1.56400994,\n",
       "        -0.14171896],\n",
       "       [-3.58689984,  0.53907456, -0.26064411,  0.04491667, -1.64721355,\n",
       "        -1.37904999],\n",
       "       [-3.82323597,  2.39108747,  0.0047618 , -3.50081534, -0.88699216,\n",
       "         2.56905353],\n",
       "       [ 2.53906165,  0.67108367,  3.97621926, -2.49108917,  0.07707299,\n",
       "         2.65930702],\n",
       "       [ 0.20330473,  3.67589621,  3.1640694 ,  2.38951556, -1.63871454,\n",
       "         2.95455297],\n",
       "       [ 0.65525274,  1.66138574,  3.75526287, -2.1884857 , -2.07357193,\n",
       "         1.59955355],\n",
       "       [ 2.83619258, -1.21296205,  2.00927272, -1.05508322,  1.29651239,\n",
       "         2.16593863]])"
      ]
     },
     "execution_count": 4,
     "metadata": {},
     "output_type": "execute_result"
    }
   ],
   "source": [
    "new"
   ]
  },
  {
   "cell_type": "code",
   "execution_count": 5,
   "metadata": {},
   "outputs": [],
   "source": [
    "def cal_pop_fitness(inp, pop):\n",
    "    fitness = numpy.sum(pop*inp, axis=1)\n",
    "    return fitness"
   ]
  },
  {
   "cell_type": "code",
   "execution_count": 6,
   "metadata": {},
   "outputs": [],
   "source": [
    "def select_mating_pool(pop, fitness, numParents):\n",
    "    par = numpy.empty((numParents, pop.shape[1]))\n",
    "    for num in range(numParents):\n",
    "        max_fitness_idx = numpy.where(fitness == numpy.max(fitness))\n",
    "        max_fitness_idx = max_fitness_idx[0][0]\n",
    "        par[num, :] = pop[max_fitness_idx, :]\n",
    "        fitness[max_fitness_idx] = -99999999999\n",
    "    return par"
   ]
  },
  {
   "cell_type": "code",
   "execution_count": 7,
   "metadata": {},
   "outputs": [],
   "source": [
    "def crossover(parents, offspring_size):\n",
    "    offspring = numpy.empty(offspring_size)\n",
    "    crossover_point = numpy.uint8(offspring_size[1]/2)\n",
    "    for k in range(offspring_size[0]):\n",
    "        parent1_idx = k%parents.shape[0]\n",
    "        parent2_idx = (k+1)%parents.shape[0]\n",
    "        offspring[k, 0:crossover_point] = parents[parent1_idx, 0:crossover_point]\n",
    "        offspring[k, crossover_point:] = parents[parent2_idx, crossover_point:]\n",
    "    return offspring"
   ]
  },
  {
   "cell_type": "code",
   "execution_count": 8,
   "metadata": {},
   "outputs": [],
   "source": [
    "def perform_mutation(offspring_crossover):\n",
    "    for idx in range(offspring_crossover.shape[0]):\n",
    "        random_value = numpy.random.uniform(-1.0, 1.0, 1)\n",
    "        offspring_crossover[idx, 4] = offspring_crossover[idx, 4] + random_value\n",
    "    return offspring_crossover"
   ]
  },
  {
   "cell_type": "code",
   "execution_count": 9,
   "metadata": {},
   "outputs": [],
   "source": [
    "gen = 5\n",
    "parents_mating = 4\n",
    "for generation in range(gen):\n",
    "    fitness = cal_pop_fitness(inp, new)\n",
    "    par = select_mating_pool(new, fitness, parents_mating)\n",
    "    cross = crossover(par, offspring_size=(size[0]-par.shape[0], weights))\n",
    "    mutation_result = perform_mutation(cross)  # Rename the 'mutation' function to avoid conflict\n",
    "    new[0:par.shape[0], :] = par\n",
    "    new[par.shape[0]:, :] = mutation_result"
   ]
  },
  {
   "cell_type": "code",
   "execution_count": 10,
   "metadata": {},
   "outputs": [
    {
     "data": {
      "text/plain": [
       "array([[ 0.65525274,  1.66138574,  3.75526287,  3.28949801, -3.03416977,\n",
       "        -0.14171896],\n",
       "       [ 0.65525274,  1.66138574,  3.75526287,  0.04491667, -2.94879204,\n",
       "        -1.37904999],\n",
       "       [ 0.65525274,  1.66138574,  3.75526287,  3.28949801, -1.57909904,\n",
       "        -0.14171896],\n",
       "       [ 0.65525274,  1.66138574,  3.75526287,  3.28949801, -1.49640466,\n",
       "        -0.14171896],\n",
       "       [ 0.65525274,  1.66138574,  3.75526287,  0.04491667, -1.98933989,\n",
       "        -1.37904999],\n",
       "       [ 0.65525274,  1.66138574,  3.75526287,  3.28949801, -1.02510922,\n",
       "        -0.14171896],\n",
       "       [ 0.65525274,  1.66138574,  3.75526287,  3.28949801, -0.6639903 ,\n",
       "        -0.14171896],\n",
       "       [ 0.65525274,  1.66138574,  3.75526287,  3.28949801, -2.28814978,\n",
       "        -0.14171896]])"
      ]
     },
     "execution_count": 10,
     "metadata": {},
     "output_type": "execute_result"
    }
   ],
   "source": [
    "new"
   ]
  },
  {
   "cell_type": "code",
   "execution_count": 11,
   "metadata": {},
   "outputs": [
    {
     "data": {
      "text/plain": [
       "array([[ 0.65525274,  1.66138574,  3.75526287,  3.28949801, -3.03416977,\n",
       "        -0.14171896],\n",
       "       [ 0.65525274,  1.66138574,  3.75526287,  0.04491667, -2.94879204,\n",
       "        -1.37904999],\n",
       "       [ 0.65525274,  1.66138574,  3.75526287,  3.28949801, -1.57909904,\n",
       "        -0.14171896],\n",
       "       [ 0.65525274,  1.66138574,  3.75526287,  3.28949801, -1.49640466,\n",
       "        -0.14171896]])"
      ]
     },
     "execution_count": 11,
     "metadata": {},
     "output_type": "execute_result"
    }
   ],
   "source": [
    "par"
   ]
  },
  {
   "cell_type": "code",
   "execution_count": 12,
   "metadata": {},
   "outputs": [
    {
     "data": {
      "text/plain": [
       "array([[ 0.65525274,  1.66138574,  3.75526287,  0.04491667, -1.98933989,\n",
       "        -1.37904999],\n",
       "       [ 0.65525274,  1.66138574,  3.75526287,  3.28949801, -1.02510922,\n",
       "        -0.14171896],\n",
       "       [ 0.65525274,  1.66138574,  3.75526287,  3.28949801, -0.6639903 ,\n",
       "        -0.14171896],\n",
       "       [ 0.65525274,  1.66138574,  3.75526287,  3.28949801, -2.28814978,\n",
       "        -0.14171896]])"
      ]
     },
     "execution_count": 12,
     "metadata": {},
     "output_type": "execute_result"
    }
   ],
   "source": [
    "mutation_result"
   ]
  },
  {
   "cell_type": "code",
   "execution_count": null,
   "metadata": {},
   "outputs": [],
   "source": []
  }
 ],
 "metadata": {
  "kernelspec": {
   "display_name": "Python 3 (ipykernel)",
   "language": "python",
   "name": "python3"
  },
  "language_info": {
   "codemirror_mode": {
    "name": "ipython",
    "version": 3
   },
   "file_extension": ".py",
   "mimetype": "text/x-python",
   "name": "python",
   "nbconvert_exporter": "python",
   "pygments_lexer": "ipython3",
   "version": "3.11.4"
  }
 },
 "nbformat": 4,
 "nbformat_minor": 2
}
